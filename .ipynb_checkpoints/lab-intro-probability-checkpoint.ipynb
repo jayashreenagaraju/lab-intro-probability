{
 "cells": [
  {
   "cell_type": "markdown",
   "metadata": {},
   "source": [
    "# Lab | Intro to Probability"
   ]
  },
  {
   "cell_type": "markdown",
   "metadata": {},
   "source": [
    "**Objective**\n",
    "\n",
    "Welcome to this Intro to Probability lab, where we explore decision-making scenarios through the lens of probability and strategic analysis. In the business world, making informed decisions is crucial, especially when faced with uncertainties. This lab focuses on scenarios where probabilistic outcomes play a significant role in shaping strategies and outcomes. Students will engage in exercises that require assessing and choosing optimal paths based on data-driven insights. The goal is to enhance your skills by applying probability concepts to solve real-world problems."
   ]
  },
  {
   "cell_type": "markdown",
   "metadata": {},
   "source": [
    "**Challenge 1**"
   ]
  },
  {
   "cell_type": "markdown",
   "metadata": {},
   "source": [
    "#### Ironhack Airlines \n",
    "\n",
    "Often Airlines sell more tickets than they have seats available, this is called overbooking. Consider the following:\n",
    "- A plane has 450 seats. \n",
    "- Based on historical data we conclude that each individual passenger has a 3% chance of missing it's flight. \n",
    "\n",
    "If the Ironhack Airlines routinely sells 460 tickets, what is the chance that they have a seats for all passenger?"
   ]
  },
  {
   "cell_type": "markdown",
   "metadata": {},
   "source": [
    "n = 460 (number of ticket holders)\n",
    "\n",
    "p = 0.03 (probability that a ticket holder misses the flight)\n",
    "\n",
    "q = 1 - p = 0.97 (probability that a ticket holder shows up)\n"
   ]
  },
  {
   "cell_type": "code",
   "execution_count": 18,
   "metadata": {
    "tags": []
   },
   "outputs": [
    {
     "name": "stdout",
     "output_type": "stream",
     "text": [
      "The cumulative probability that 450 or fewer passengers show up (using CDF):  1.00\n",
      "The probability that more than 450 passengers show up:  0.00\n"
     ]
    }
   ],
   "source": [
    "from scipy.stats import binom\n",
    "\n",
    "# Define the parameters\n",
    "n = 460\n",
    "p = 0.03\n",
    "max_seats = 450\n",
    "\n",
    "#  method using the CDF\n",
    "cdf_probability = binom.cdf(max_seats, n, p)\n",
    "print(f\"The cumulative probability that 450 or fewer passengers show up (using CDF): {cdf_probability: .2f}\")\n",
    "\n",
    "# Probability that more than 450 passengers show up\n",
    "prob_more_than_450 = 1 - cdf_probability\n",
    "print(f\"The probability that more than 450 passengers show up: {prob_more_than_450: .2f}\")\n"
   ]
  },
  {
   "cell_type": "markdown",
   "metadata": {},
   "source": [
    "In summary, the result suggests that Ironhack Airlines selling 460 tickets for a plane with 450 seats is a very safe strategy. It is extremely unlikely that more than 450 passengers will show up, so the airline will almost certainly have enough seats for all the passengers who actually come to the flight."
   ]
  },
  {
   "cell_type": "markdown",
   "metadata": {},
   "source": [
    "**Challenge 2**"
   ]
  },
  {
   "cell_type": "markdown",
   "metadata": {},
   "source": [
    "#### Ironhack Call Center "
   ]
  },
  {
   "cell_type": "markdown",
   "metadata": {},
   "source": [
    "Suppose a customer service representative at a call center is handling customer complaints. Consider the following:\n",
    "- The probability of successfully resolving a customer complaint on the first attempt is 0.3. \n",
    "\n",
    "\n",
    "What is the probability that the representative needs to make at least three attempts before successfully resolving a customer complaint?"
   ]
  },
  {
   "cell_type": "code",
   "execution_count": 22,
   "metadata": {},
   "outputs": [
    {
     "name": "stdout",
     "output_type": "stream",
     "text": [
      "The probability that the representative needs to make at least three attempts before successfully resolving a customer complaint is 0.49\n"
     ]
    }
   ],
   "source": [
    "from scipy.stats import geom\n",
    "\n",
    "p = 0.3\n",
    "\n",
    "# Probability of resolving the complaint on the first and second attempt\n",
    "P_X_1 = geom.pmf(1, p)\n",
    "P_X_2 = geom.pmf(2, p)\n",
    "\n",
    "# Probability of needing at least three attempts\n",
    "P_X_ge_3 = 1 - (P_X_1 + P_X_2)\n",
    "\n",
    "print(f\"The probability that the representative needs to make at least three attempts before successfully resolving a customer complaint is {P_X_ge_3:.2f}\")\n"
   ]
  },
  {
   "cell_type": "markdown",
   "metadata": {},
   "source": [
    "**Challenge 3**"
   ]
  },
  {
   "cell_type": "markdown",
   "metadata": {},
   "source": [
    "#### Ironhack Website"
   ]
  },
  {
   "cell_type": "markdown",
   "metadata": {},
   "source": [
    "Consider a scenario related to Ironhack website traffic. Where:\n",
    "- our website takes on average 500 visits per hour.\n",
    "- the website's server is designed to handle up to 550 vists per hour.\n",
    "\n",
    "\n",
    "What is the probability of the website server being overwhelmed?"
   ]
  },
  {
   "cell_type": "code",
   "execution_count": 24,
   "metadata": {},
   "outputs": [
    {
     "name": "stdout",
     "output_type": "stream",
     "text": [
      "The probability that the server will be overwhelmed in a given hour is 0.012898\n"
     ]
    }
   ],
   "source": [
    "from scipy.stats import poisson\n",
    "\n",
    "# Define the average rate of visits per hour\n",
    "lambda_visits = 500\n",
    "threshold_visits = 550\n",
    "\n",
    "# Create the Poisson distribution with the given lambda\n",
    "poisson_dist = poisson(lambda_visits)\n",
    "\n",
    "# Calculate the probability of having more than 550 visits in an hour\n",
    "prob_overwhelmed_per_hour = 1 - poisson_dist.cdf(threshold_visits)\n",
    "\n",
    "print(f\"The probability that the server will be overwhelmed in a given hour is {prob_overwhelmed_per_hour:.6f}\")\n"
   ]
  },
  {
   "cell_type": "markdown",
   "metadata": {},
   "source": [
    "What is the probability of being overwhelmed at some point during a day? (consider 24hours)"
   ]
  },
  {
   "cell_type": "code",
   "execution_count": 28,
   "metadata": {
    "tags": []
   },
   "outputs": [
    {
     "name": "stdout",
     "output_type": "stream",
     "text": [
      "The probability that the server will be overwhelmed at least once during a day is 0.267704\n"
     ]
    }
   ],
   "source": [
    "import scipy.stats as stats\n",
    "\n",
    "# Define the parameters of the Poisson distribution (for example)\n",
    "mean_visits_per_hour = 500  # Example mean visits per hour\n",
    "threshold_visits = 550  # Example threshold for being overwhelmed\n",
    "\n",
    "# Create a Poisson distribution\n",
    "poisson_dist = stats.poisson(mu=mean_visits_per_hour)\n",
    "\n",
    "# Calculate the probability of being overwhelmed in a given hour\n",
    "prob_overwhelmed_per_hour = 1 - poisson_dist.cdf(threshold_visits)\n",
    "\n",
    "# Calculate the probability of not being overwhelmed in a given hour\n",
    "prob_not_overwhelmed_per_hour = poisson_dist.cdf(threshold_visits)\n",
    "\n",
    "# Calculate the probability of not being overwhelmed in any of the 24 hours\n",
    "prob_not_overwhelmed_in_24_hours = prob_not_overwhelmed_per_hour ** 24\n",
    "\n",
    "# Calculate the probability of being overwhelmed at least once during the day\n",
    "prob_overwhelmed_in_24_hours = 1 - prob_not_overwhelmed_in_24_hours\n",
    "\n",
    "print(f\"The probability that the server will be overwhelmed at least once during a day is {prob_overwhelmed_in_24_hours:.6f}\")\n"
   ]
  },
  {
   "cell_type": "markdown",
   "metadata": {},
   "source": [
    "**Challenge 4**"
   ]
  },
  {
   "cell_type": "markdown",
   "metadata": {},
   "source": [
    "#### Ironhack Helpdesk"
   ]
  },
  {
   "cell_type": "markdown",
   "metadata": {},
   "source": [
    "Consider a scenario related to the time between arrivals of customers at a service desk.\n",
    "\n",
    "On average, a customers arrives every 10minutes.\n",
    "\n",
    "What is the probability that the next customer will arrive within the next 5 minutes?"
   ]
  },
  {
   "cell_type": "code",
   "execution_count": 32,
   "metadata": {},
   "outputs": [
    {
     "data": {
      "text/plain": [
       "0.3934693402873666"
      ]
     },
     "execution_count": 32,
     "metadata": {},
     "output_type": "execute_result"
    }
   ],
   "source": [
    "from scipy.stats import expon\n",
    "\n",
    "#the parameter represents the rate of events occuring per unit of time\n",
    "lambda_value = 1 / 10\n",
    "\n",
    "# Scale parameter for the exponential distribution\n",
    "scale_parameter = 1 / lambda_value\n",
    "\n",
    "lambda_inv = expon(scale =scale_parameter)\n",
    "\n",
    "lambda_inv.cdf(5)"
   ]
  },
  {
   "cell_type": "markdown",
   "metadata": {},
   "source": [
    "If there is no customer for 15minutes, employees can that a 5minutes break.\n",
    "\n",
    "What is the probability an employee taking a break?"
   ]
  },
  {
   "cell_type": "code",
   "execution_count": 34,
   "metadata": {},
   "outputs": [
    {
     "data": {
      "text/plain": [
       "0.28346868942621073"
      ]
     },
     "execution_count": 34,
     "metadata": {},
     "output_type": "execute_result"
    }
   ],
   "source": [
    "#the parameter represents the rate of events occuring per unit of time\n",
    "lambda_value = 1 / 15\n",
    "\n",
    "# Scale parameter for the exponential distribution\n",
    "scale_parameter = 1 / lambda_value\n",
    "\n",
    "lambda_inv = expon(scale =scale_parameter)\n",
    "\n",
    "lambda_inv.cdf(5)"
   ]
  },
  {
   "cell_type": "markdown",
   "metadata": {},
   "source": [
    "**Challenge 5**"
   ]
  },
  {
   "cell_type": "markdown",
   "metadata": {},
   "source": [
    "The weights of a certain species of birds follow a normal distribution with a mean weight of 150 grams and a standard deviation of 10 grams. \n",
    "\n",
    "- If we randomly select a bird, what is the probability that its weight is between 140 and 160 grams?"
   ]
  },
  {
   "cell_type": "code",
   "execution_count": 40,
   "metadata": {},
   "outputs": [
    {
     "name": "stdout",
     "output_type": "stream",
     "text": [
      "The probability of the bird weight is between 140 and 160 grams is 0.01654046662240305\n"
     ]
    }
   ],
   "source": [
    "from scipy.stats import norm\n",
    "\n",
    "mean = 150\n",
    "std = 10\n",
    "\n",
    "norm_dist = norm(loc = mean, scale = std)\n",
    "print(f\"The probability of the bird weight is between 140 and 160 grams is {norm_dist.cdf(175) - norm_dist.cdf(170)}\")\n"
   ]
  },
  {
   "cell_type": "markdown",
   "metadata": {},
   "source": [
    "**Challenge 6**"
   ]
  },
  {
   "cell_type": "markdown",
   "metadata": {},
   "source": [
    "If the lifetime (in hours) of a certain electronic component follows an exponential distribution with a mean lifetime of 50 hours, what is the probability that the component fails within the first 30 hours?"
   ]
  },
  {
   "cell_type": "code",
   "execution_count": 44,
   "metadata": {},
   "outputs": [
    {
     "name": "stdout",
     "output_type": "stream",
     "text": [
      "The probability that the component fails within the first 30 hours is 0.4512\n"
     ]
    }
   ],
   "source": [
    "from scipy.stats import expon\n",
    "\n",
    "# Mean lifetime of the component\n",
    "mean_lifetime = 50\n",
    "\n",
    "# Rate parameter (lambda) for the exponential distribution\n",
    "lambda_value = 1 / mean_lifetime\n",
    "\n",
    "# Create an exponential distribution object\n",
    "exp_dist = expon(scale=1/lambda_value)\n",
    "\n",
    "# Calculate the probability that the component fails within the first 30 hours\n",
    "probability_fail_within_30_hours = exp_dist.cdf(30)\n",
    "\n",
    "print(f\"The probability that the component fails within the first 30 hours is {probability_fail_within_30_hours:.4f}\")\n"
   ]
  }
 ],
 "metadata": {
  "kernelspec": {
   "display_name": "Python 3 (ipykernel)",
   "language": "python",
   "name": "python3"
  },
  "language_info": {
   "codemirror_mode": {
    "name": "ipython",
    "version": 3
   },
   "file_extension": ".py",
   "mimetype": "text/x-python",
   "name": "python",
   "nbconvert_exporter": "python",
   "pygments_lexer": "ipython3",
   "version": "3.11.7"
  }
 },
 "nbformat": 4,
 "nbformat_minor": 4
}
